{
 "cells": [
  {
   "cell_type": "markdown",
   "id": "d24be1cc-900f-427f-a1a1-2bcdb28d83d3",
   "metadata": {},
   "source": [
    "1. Analyzing data"
   ]
  },
  {
   "cell_type": "code",
   "execution_count": 3,
   "id": "da0443e3-7747-491c-ba32-7d7a7a68cfba",
   "metadata": {},
   "outputs": [],
   "source": [
    "import pandas as pd\n",
    "\n",
    "movies = pd.read_csv(\"movies2/movies.csv\")\n"
   ]
  },
  {
   "cell_type": "code",
   "execution_count": 4,
   "id": "f0ffc5ea-4b29-47a1-848a-b8efeba256af",
   "metadata": {},
   "outputs": [
    {
     "data": {
      "text/html": [
       "<div>\n",
       "<style scoped>\n",
       "    .dataframe tbody tr th:only-of-type {\n",
       "        vertical-align: middle;\n",
       "    }\n",
       "\n",
       "    .dataframe tbody tr th {\n",
       "        vertical-align: top;\n",
       "    }\n",
       "\n",
       "    .dataframe thead th {\n",
       "        text-align: right;\n",
       "    }\n",
       "</style>\n",
       "<table border=\"1\" class=\"dataframe\">\n",
       "  <thead>\n",
       "    <tr style=\"text-align: right;\">\n",
       "      <th></th>\n",
       "      <th>movieId</th>\n",
       "      <th>title</th>\n",
       "      <th>genres</th>\n",
       "    </tr>\n",
       "  </thead>\n",
       "  <tbody>\n",
       "    <tr>\n",
       "      <th>0</th>\n",
       "      <td>1</td>\n",
       "      <td>Toy Story (1995)</td>\n",
       "      <td>Adventure|Animation|Children|Comedy|Fantasy</td>\n",
       "    </tr>\n",
       "    <tr>\n",
       "      <th>1</th>\n",
       "      <td>2</td>\n",
       "      <td>Jumanji (1995)</td>\n",
       "      <td>Adventure|Children|Fantasy</td>\n",
       "    </tr>\n",
       "    <tr>\n",
       "      <th>2</th>\n",
       "      <td>3</td>\n",
       "      <td>Grumpier Old Men (1995)</td>\n",
       "      <td>Comedy|Romance</td>\n",
       "    </tr>\n",
       "    <tr>\n",
       "      <th>3</th>\n",
       "      <td>4</td>\n",
       "      <td>Waiting to Exhale (1995)</td>\n",
       "      <td>Comedy|Drama|Romance</td>\n",
       "    </tr>\n",
       "    <tr>\n",
       "      <th>4</th>\n",
       "      <td>5</td>\n",
       "      <td>Father of the Bride Part II (1995)</td>\n",
       "      <td>Comedy</td>\n",
       "    </tr>\n",
       "  </tbody>\n",
       "</table>\n",
       "</div>"
      ],
      "text/plain": [
       "   movieId                               title  \\\n",
       "0        1                    Toy Story (1995)   \n",
       "1        2                      Jumanji (1995)   \n",
       "2        3             Grumpier Old Men (1995)   \n",
       "3        4            Waiting to Exhale (1995)   \n",
       "4        5  Father of the Bride Part II (1995)   \n",
       "\n",
       "                                        genres  \n",
       "0  Adventure|Animation|Children|Comedy|Fantasy  \n",
       "1                   Adventure|Children|Fantasy  \n",
       "2                               Comedy|Romance  \n",
       "3                         Comedy|Drama|Romance  \n",
       "4                                       Comedy  "
      ]
     },
     "execution_count": 4,
     "metadata": {},
     "output_type": "execute_result"
    }
   ],
   "source": [
    "movies.head()"
   ]
  },
  {
   "cell_type": "code",
   "execution_count": 5,
   "id": "64ed86cf-5986-4889-99da-a2d621aec899",
   "metadata": {},
   "outputs": [
    {
     "name": "stdout",
     "output_type": "stream",
     "text": [
      "<class 'pandas.core.frame.DataFrame'>\n",
      "RangeIndex: 9742 entries, 0 to 9741\n",
      "Data columns (total 3 columns):\n",
      " #   Column   Non-Null Count  Dtype \n",
      "---  ------   --------------  ----- \n",
      " 0   movieId  9742 non-null   int64 \n",
      " 1   title    9742 non-null   object\n",
      " 2   genres   9742 non-null   object\n",
      "dtypes: int64(1), object(2)\n",
      "memory usage: 228.5+ KB\n"
     ]
    }
   ],
   "source": [
    "movies.info()"
   ]
  },
  {
   "cell_type": "code",
   "execution_count": 6,
   "id": "c6255647-b0ae-41fb-bc4f-989f71293f2c",
   "metadata": {},
   "outputs": [
    {
     "data": {
      "text/plain": [
       "(9742,)"
      ]
     },
     "execution_count": 6,
     "metadata": {},
     "output_type": "execute_result"
    }
   ],
   "source": [
    "movies[\"movieId\"].unique().shape"
   ]
  },
  {
   "cell_type": "code",
   "execution_count": 7,
   "id": "71214a98-9906-4020-ac52-f7f5a7c2ab03",
   "metadata": {},
   "outputs": [
    {
     "data": {
      "text/html": [
       "<div>\n",
       "<style scoped>\n",
       "    .dataframe tbody tr th:only-of-type {\n",
       "        vertical-align: middle;\n",
       "    }\n",
       "\n",
       "    .dataframe tbody tr th {\n",
       "        vertical-align: top;\n",
       "    }\n",
       "\n",
       "    .dataframe thead th {\n",
       "        text-align: right;\n",
       "    }\n",
       "</style>\n",
       "<table border=\"1\" class=\"dataframe\">\n",
       "  <thead>\n",
       "    <tr style=\"text-align: right;\">\n",
       "      <th></th>\n",
       "      <th>userId</th>\n",
       "      <th>movieId</th>\n",
       "      <th>rating</th>\n",
       "      <th>timestamp</th>\n",
       "    </tr>\n",
       "  </thead>\n",
       "  <tbody>\n",
       "    <tr>\n",
       "      <th>0</th>\n",
       "      <td>1</td>\n",
       "      <td>1</td>\n",
       "      <td>4.0</td>\n",
       "      <td>964982703</td>\n",
       "    </tr>\n",
       "    <tr>\n",
       "      <th>1</th>\n",
       "      <td>1</td>\n",
       "      <td>3</td>\n",
       "      <td>4.0</td>\n",
       "      <td>964981247</td>\n",
       "    </tr>\n",
       "    <tr>\n",
       "      <th>2</th>\n",
       "      <td>1</td>\n",
       "      <td>6</td>\n",
       "      <td>4.0</td>\n",
       "      <td>964982224</td>\n",
       "    </tr>\n",
       "    <tr>\n",
       "      <th>3</th>\n",
       "      <td>1</td>\n",
       "      <td>47</td>\n",
       "      <td>5.0</td>\n",
       "      <td>964983815</td>\n",
       "    </tr>\n",
       "    <tr>\n",
       "      <th>4</th>\n",
       "      <td>1</td>\n",
       "      <td>50</td>\n",
       "      <td>5.0</td>\n",
       "      <td>964982931</td>\n",
       "    </tr>\n",
       "  </tbody>\n",
       "</table>\n",
       "</div>"
      ],
      "text/plain": [
       "   userId  movieId  rating  timestamp\n",
       "0       1        1     4.0  964982703\n",
       "1       1        3     4.0  964981247\n",
       "2       1        6     4.0  964982224\n",
       "3       1       47     5.0  964983815\n",
       "4       1       50     5.0  964982931"
      ]
     },
     "execution_count": 7,
     "metadata": {},
     "output_type": "execute_result"
    }
   ],
   "source": [
    "ratings = pd.read_csv(\"movies2/ratings.csv\")\n",
    "ratings.head()"
   ]
  },
  {
   "cell_type": "code",
   "execution_count": 8,
   "id": "59f083b5-28ef-48ea-8b26-7081d4df6d2d",
   "metadata": {},
   "outputs": [
    {
     "name": "stdout",
     "output_type": "stream",
     "text": [
      "<class 'pandas.core.frame.DataFrame'>\n",
      "RangeIndex: 100836 entries, 0 to 100835\n",
      "Data columns (total 4 columns):\n",
      " #   Column     Non-Null Count   Dtype  \n",
      "---  ------     --------------   -----  \n",
      " 0   userId     100836 non-null  int64  \n",
      " 1   movieId    100836 non-null  int64  \n",
      " 2   rating     100836 non-null  float64\n",
      " 3   timestamp  100836 non-null  int64  \n",
      "dtypes: float64(1), int64(3)\n",
      "memory usage: 3.1 MB\n"
     ]
    }
   ],
   "source": [
    "ratings.info()"
   ]
  },
  {
   "cell_type": "code",
   "execution_count": 9,
   "id": "80d0f5fd-8d13-42fe-a954-9218dbc28255",
   "metadata": {},
   "outputs": [
    {
     "data": {
      "text/html": [
       "<div>\n",
       "<style scoped>\n",
       "    .dataframe tbody tr th:only-of-type {\n",
       "        vertical-align: middle;\n",
       "    }\n",
       "\n",
       "    .dataframe tbody tr th {\n",
       "        vertical-align: top;\n",
       "    }\n",
       "\n",
       "    .dataframe thead th {\n",
       "        text-align: right;\n",
       "    }\n",
       "</style>\n",
       "<table border=\"1\" class=\"dataframe\">\n",
       "  <thead>\n",
       "    <tr style=\"text-align: right;\">\n",
       "      <th></th>\n",
       "      <th>userId</th>\n",
       "      <th>movieId</th>\n",
       "      <th>rating</th>\n",
       "    </tr>\n",
       "  </thead>\n",
       "  <tbody>\n",
       "    <tr>\n",
       "      <th>0</th>\n",
       "      <td>1</td>\n",
       "      <td>1</td>\n",
       "      <td>4.0</td>\n",
       "    </tr>\n",
       "    <tr>\n",
       "      <th>1</th>\n",
       "      <td>1</td>\n",
       "      <td>3</td>\n",
       "      <td>4.0</td>\n",
       "    </tr>\n",
       "    <tr>\n",
       "      <th>2</th>\n",
       "      <td>1</td>\n",
       "      <td>6</td>\n",
       "      <td>4.0</td>\n",
       "    </tr>\n",
       "    <tr>\n",
       "      <th>3</th>\n",
       "      <td>1</td>\n",
       "      <td>47</td>\n",
       "      <td>5.0</td>\n",
       "    </tr>\n",
       "    <tr>\n",
       "      <th>4</th>\n",
       "      <td>1</td>\n",
       "      <td>50</td>\n",
       "      <td>5.0</td>\n",
       "    </tr>\n",
       "  </tbody>\n",
       "</table>\n",
       "</div>"
      ],
      "text/plain": [
       "   userId  movieId  rating\n",
       "0       1        1     4.0\n",
       "1       1        3     4.0\n",
       "2       1        6     4.0\n",
       "3       1       47     5.0\n",
       "4       1       50     5.0"
      ]
     },
     "execution_count": 9,
     "metadata": {},
     "output_type": "execute_result"
    }
   ],
   "source": [
    "ratings = ratings.drop(columns=[\"timestamp\"],axis=1)\n",
    "ratings.head()"
   ]
  },
  {
   "cell_type": "code",
   "execution_count": 10,
   "id": "53e535b2-70d7-4fb1-b025-393610afd006",
   "metadata": {},
   "outputs": [],
   "source": [
    "import numpy as np\n",
    "\n",
    "ratings_arr = ratings.to_numpy()\n",
    "np.set_printoptions(suppress=True)"
   ]
  },
  {
   "cell_type": "code",
   "execution_count": 11,
   "id": "f8b48edb-ec95-4cbe-ab10-c14cb4ee044c",
   "metadata": {},
   "outputs": [
    {
     "data": {
      "text/plain": [
       "610"
      ]
     },
     "execution_count": 11,
     "metadata": {},
     "output_type": "execute_result"
    }
   ],
   "source": [
    "ratings[\"userId\"].nunique()"
   ]
  },
  {
   "cell_type": "markdown",
   "id": "fada9e2c-70a6-444e-b189-623ee5646a8d",
   "metadata": {},
   "source": [
    "2. Creating User rating matrix which users are in columns and movies in rows and corrosponding binary matrix which marks a user has given a rating or not"
   ]
  },
  {
   "cell_type": "code",
   "execution_count": 12,
   "id": "857a1090-721d-44c2-8a4d-7ad47ef8cd57",
   "metadata": {},
   "outputs": [],
   "source": [
    "import numpy as np\n",
    "\n",
    "def ratings_matrix(ratings, movies):\n",
    "    \n",
    "    user_unique_list, user_indices = np.unique(ratings[\"userId\"], return_inverse=True)\n",
    "    movie_unique_list, movie_indices = np.unique(movies[\"movieId\"], return_inverse=True)\n",
    "    \n",
    "    ratings_mat = np.full((len(movie_unique_list), len(user_unique_list)), np.nan)\n",
    "    present_mat = np.full((len(movie_unique_list), len(user_unique_list)), 1)\n",
    "\n",
    "    for idx, row in ratings.iterrows():\n",
    "        movie_id_idx = np.where(movie_unique_list == row[\"movieId\"])[0]\n",
    "        user_id_idx = np.where(user_unique_list == row[\"userId\"])[0]  \n",
    "        ratings_mat[movie_id_idx, user_id_idx] = row[\"rating\"]\n",
    "\n",
    "    nan_ind = np.argwhere(np.isnan(ratings_mat))\n",
    "    present_mat[nan_ind[:, 0], nan_ind[:, 1]] = 0\n",
    "    \n",
    "    return ratings_mat, present_mat\n",
    "\n",
    "\n"
   ]
  },
  {
   "cell_type": "code",
   "execution_count": 13,
   "id": "ce3002e4-6b97-4fbf-9f0c-55a34fa6533e",
   "metadata": {},
   "outputs": [],
   "source": [
    "Y, R = ratings_matrix(ratings, movies)"
   ]
  },
  {
   "cell_type": "code",
   "execution_count": 14,
   "id": "5cf95456-537b-4649-8cc7-624ab7f4a334",
   "metadata": {},
   "outputs": [
    {
     "data": {
      "text/plain": [
       "array([[4. , nan, nan, ..., 2.5, 3. , 5. ],\n",
       "       [nan, nan, nan, ..., 2. , nan, nan],\n",
       "       [4. , nan, nan, ..., 2. , nan, nan],\n",
       "       ...,\n",
       "       [nan, nan, nan, ..., nan, nan, nan],\n",
       "       [nan, nan, nan, ..., nan, nan, nan],\n",
       "       [nan, nan, nan, ..., nan, nan, nan]])"
      ]
     },
     "execution_count": 14,
     "metadata": {},
     "output_type": "execute_result"
    }
   ],
   "source": [
    "Y"
   ]
  },
  {
   "cell_type": "code",
   "execution_count": 15,
   "id": "6d89b250-a35b-4c74-a78c-3dd9687d512b",
   "metadata": {},
   "outputs": [
    {
     "name": "stderr",
     "output_type": "stream",
     "text": [
      "C:\\Users\\ACER\\AppData\\Local\\Temp\\ipykernel_11212\\573461765.py:1: RuntimeWarning: Mean of empty slice\n",
      "  movie_avr_mean =np.nanmean(Y, axis =1)\n"
     ]
    }
   ],
   "source": [
    "movie_avr_mean =np.nanmean(Y, axis =1)"
   ]
  },
  {
   "cell_type": "code",
   "execution_count": 16,
   "id": "85af17f4-9903-4aa5-ba97-4feb4bb35a20",
   "metadata": {},
   "outputs": [
    {
     "data": {
      "text/plain": [
       "array([[3.92093023],\n",
       "       [3.43181818],\n",
       "       [3.25961538],\n",
       "       ...,\n",
       "       [3.5       ],\n",
       "       [3.5       ],\n",
       "       [4.        ]])"
      ]
     },
     "execution_count": 16,
     "metadata": {},
     "output_type": "execute_result"
    }
   ],
   "source": [
    "movie_avr_mean=movie_avr_mean.reshape(-1,1)\n",
    "movie_avr_mean"
   ]
  },
  {
   "cell_type": "code",
   "execution_count": 17,
   "id": "5171b8d9-9583-4245-ba1d-ec72fd0343b0",
   "metadata": {},
   "outputs": [
    {
     "data": {
      "text/plain": [
       "(9742, 610)"
      ]
     },
     "execution_count": 17,
     "metadata": {},
     "output_type": "execute_result"
    }
   ],
   "source": [
    "Y.shape"
   ]
  },
  {
   "cell_type": "code",
   "execution_count": 18,
   "id": "becd619c-071e-45f9-b227-ea39dd9cd16e",
   "metadata": {},
   "outputs": [
    {
     "data": {
      "text/plain": [
       "array([[4. , nan, nan, ..., 2.5, 3. , 5. ],\n",
       "       [nan, nan, nan, ..., 2. , nan, nan],\n",
       "       [4. , nan, nan, ..., 2. , nan, nan],\n",
       "       ...,\n",
       "       [nan, nan, nan, ..., nan, nan, nan],\n",
       "       [nan, nan, nan, ..., nan, nan, nan],\n",
       "       [nan, nan, nan, ..., nan, nan, nan]])"
      ]
     },
     "execution_count": 18,
     "metadata": {},
     "output_type": "execute_result"
    }
   ],
   "source": [
    "Y"
   ]
  },
  {
   "cell_type": "code",
   "execution_count": 19,
   "id": "40f6edab-93f4-42e6-9bb3-5adb17a82065",
   "metadata": {},
   "outputs": [],
   "source": [
    "Ynorm = Y - movie_avr_mean"
   ]
  },
  {
   "cell_type": "code",
   "execution_count": 20,
   "id": "b5603d98-ff90-44f6-9e0e-128ec4268fa6",
   "metadata": {},
   "outputs": [
    {
     "data": {
      "text/plain": [
       "array([[ 0.07906977,         nan,         nan, ..., -1.42093023,\n",
       "        -0.92093023,  1.07906977],\n",
       "       [        nan,         nan,         nan, ..., -1.43181818,\n",
       "                nan,         nan],\n",
       "       [ 0.74038462,         nan,         nan, ..., -1.25961538,\n",
       "                nan,         nan],\n",
       "       ...,\n",
       "       [        nan,         nan,         nan, ...,         nan,\n",
       "                nan,         nan],\n",
       "       [        nan,         nan,         nan, ...,         nan,\n",
       "                nan,         nan],\n",
       "       [        nan,         nan,         nan, ...,         nan,\n",
       "                nan,         nan]])"
      ]
     },
     "execution_count": 20,
     "metadata": {},
     "output_type": "execute_result"
    }
   ],
   "source": [
    "Ynorm"
   ]
  },
  {
   "cell_type": "code",
   "execution_count": 21,
   "id": "2d0f4e58-4bbe-45ef-975d-6575d0b63ef6",
   "metadata": {},
   "outputs": [],
   "source": [
    "movies[\"ratings\"] = movie_avr_mean\n"
   ]
  },
  {
   "cell_type": "code",
   "execution_count": 22,
   "id": "33ef9a07-8867-40f8-ae20-2249d9e4237d",
   "metadata": {},
   "outputs": [
    {
     "data": {
      "text/html": [
       "<div>\n",
       "<style scoped>\n",
       "    .dataframe tbody tr th:only-of-type {\n",
       "        vertical-align: middle;\n",
       "    }\n",
       "\n",
       "    .dataframe tbody tr th {\n",
       "        vertical-align: top;\n",
       "    }\n",
       "\n",
       "    .dataframe thead th {\n",
       "        text-align: right;\n",
       "    }\n",
       "</style>\n",
       "<table border=\"1\" class=\"dataframe\">\n",
       "  <thead>\n",
       "    <tr style=\"text-align: right;\">\n",
       "      <th></th>\n",
       "      <th>movieId</th>\n",
       "      <th>title</th>\n",
       "      <th>genres</th>\n",
       "      <th>ratings</th>\n",
       "    </tr>\n",
       "  </thead>\n",
       "  <tbody>\n",
       "    <tr>\n",
       "      <th>0</th>\n",
       "      <td>1</td>\n",
       "      <td>Toy Story (1995)</td>\n",
       "      <td>Adventure|Animation|Children|Comedy|Fantasy</td>\n",
       "      <td>3.920930</td>\n",
       "    </tr>\n",
       "    <tr>\n",
       "      <th>1</th>\n",
       "      <td>2</td>\n",
       "      <td>Jumanji (1995)</td>\n",
       "      <td>Adventure|Children|Fantasy</td>\n",
       "      <td>3.431818</td>\n",
       "    </tr>\n",
       "    <tr>\n",
       "      <th>2</th>\n",
       "      <td>3</td>\n",
       "      <td>Grumpier Old Men (1995)</td>\n",
       "      <td>Comedy|Romance</td>\n",
       "      <td>3.259615</td>\n",
       "    </tr>\n",
       "    <tr>\n",
       "      <th>3</th>\n",
       "      <td>4</td>\n",
       "      <td>Waiting to Exhale (1995)</td>\n",
       "      <td>Comedy|Drama|Romance</td>\n",
       "      <td>2.357143</td>\n",
       "    </tr>\n",
       "    <tr>\n",
       "      <th>4</th>\n",
       "      <td>5</td>\n",
       "      <td>Father of the Bride Part II (1995)</td>\n",
       "      <td>Comedy</td>\n",
       "      <td>3.071429</td>\n",
       "    </tr>\n",
       "  </tbody>\n",
       "</table>\n",
       "</div>"
      ],
      "text/plain": [
       "   movieId                               title  \\\n",
       "0        1                    Toy Story (1995)   \n",
       "1        2                      Jumanji (1995)   \n",
       "2        3             Grumpier Old Men (1995)   \n",
       "3        4            Waiting to Exhale (1995)   \n",
       "4        5  Father of the Bride Part II (1995)   \n",
       "\n",
       "                                        genres   ratings  \n",
       "0  Adventure|Animation|Children|Comedy|Fantasy  3.920930  \n",
       "1                   Adventure|Children|Fantasy  3.431818  \n",
       "2                               Comedy|Romance  3.259615  \n",
       "3                         Comedy|Drama|Romance  2.357143  \n",
       "4                                       Comedy  3.071429  "
      ]
     },
     "execution_count": 22,
     "metadata": {},
     "output_type": "execute_result"
    }
   ],
   "source": [
    "movies.head()"
   ]
  },
  {
   "cell_type": "code",
   "execution_count": 23,
   "id": "5181d120-332e-4247-add0-09c781688802",
   "metadata": {},
   "outputs": [
    {
     "data": {
      "text/html": [
       "<div>\n",
       "<style scoped>\n",
       "    .dataframe tbody tr th:only-of-type {\n",
       "        vertical-align: middle;\n",
       "    }\n",
       "\n",
       "    .dataframe tbody tr th {\n",
       "        vertical-align: top;\n",
       "    }\n",
       "\n",
       "    .dataframe thead th {\n",
       "        text-align: right;\n",
       "    }\n",
       "</style>\n",
       "<table border=\"1\" class=\"dataframe\">\n",
       "  <thead>\n",
       "    <tr style=\"text-align: right;\">\n",
       "      <th></th>\n",
       "      <th>movieId</th>\n",
       "      <th>ratings</th>\n",
       "    </tr>\n",
       "  </thead>\n",
       "  <tbody>\n",
       "    <tr>\n",
       "      <th>count</th>\n",
       "      <td>9742.000000</td>\n",
       "      <td>9724.000000</td>\n",
       "    </tr>\n",
       "    <tr>\n",
       "      <th>mean</th>\n",
       "      <td>42200.353623</td>\n",
       "      <td>3.262448</td>\n",
       "    </tr>\n",
       "    <tr>\n",
       "      <th>std</th>\n",
       "      <td>52160.494854</td>\n",
       "      <td>0.869874</td>\n",
       "    </tr>\n",
       "    <tr>\n",
       "      <th>min</th>\n",
       "      <td>1.000000</td>\n",
       "      <td>0.500000</td>\n",
       "    </tr>\n",
       "    <tr>\n",
       "      <th>25%</th>\n",
       "      <td>3248.250000</td>\n",
       "      <td>2.800000</td>\n",
       "    </tr>\n",
       "    <tr>\n",
       "      <th>50%</th>\n",
       "      <td>7300.000000</td>\n",
       "      <td>3.416667</td>\n",
       "    </tr>\n",
       "    <tr>\n",
       "      <th>75%</th>\n",
       "      <td>76232.000000</td>\n",
       "      <td>3.911765</td>\n",
       "    </tr>\n",
       "    <tr>\n",
       "      <th>max</th>\n",
       "      <td>193609.000000</td>\n",
       "      <td>5.000000</td>\n",
       "    </tr>\n",
       "  </tbody>\n",
       "</table>\n",
       "</div>"
      ],
      "text/plain": [
       "             movieId      ratings\n",
       "count    9742.000000  9724.000000\n",
       "mean    42200.353623     3.262448\n",
       "std     52160.494854     0.869874\n",
       "min         1.000000     0.500000\n",
       "25%      3248.250000     2.800000\n",
       "50%      7300.000000     3.416667\n",
       "75%     76232.000000     3.911765\n",
       "max    193609.000000     5.000000"
      ]
     },
     "execution_count": 23,
     "metadata": {},
     "output_type": "execute_result"
    }
   ],
   "source": [
    "movies.describe()"
   ]
  },
  {
   "cell_type": "markdown",
   "id": "aec70786-152a-4863-98eb-bdbb8863787f",
   "metadata": {},
   "source": [
    "3. Cost finction for compare predicted values and actual ones"
   ]
  },
  {
   "cell_type": "code",
   "execution_count": 24,
   "id": "e3b8d22e-66c6-432d-8420-b1b8842ecd10",
   "metadata": {},
   "outputs": [],
   "source": [
    "def cost(W, X, Y , b, R, lambda_):    \n",
    "     \n",
    "    fwb = tf.linalg.matmul(X, tf.transpose(W)) + b\n",
    "    z = (fwb - Y)*R\n",
    "    J = 0.5 * tf.reduce_sum(z**2) + (lambda_/2) * (tf.reduce_sum(X**2) + tf.reduce_sum(W**2))\n",
    "    \n",
    "    return J"
   ]
  },
  {
   "cell_type": "markdown",
   "id": "8bbd8f32-71fd-4f88-85c5-37b309bc40f5",
   "metadata": {},
   "source": [
    "4. creating function for learning X, W, b weights by gradient descent"
   ]
  },
  {
   "cell_type": "code",
   "execution_count": 25,
   "id": "6b728a62-88f7-4e16-8bf0-753f3f1bad43",
   "metadata": {},
   "outputs": [],
   "source": [
    "import tensorflow as tf\n",
    "import keras\n",
    "\n",
    "def find_WXb(Ynorm,R, num_features, iterations, lambda_):\n",
    "    num_movies, num_users = Y.shape\n",
    "    \n",
    "    tf.random.set_seed(1234)\n",
    "    W = tf.Variable(tf.random.normal((num_users,  num_features),dtype=tf.float64),  name='W')\n",
    "    X = tf.Variable(tf.random.normal((num_movies, num_features),dtype=tf.float64),  name='X')\n",
    "    b = tf.Variable(tf.random.normal((1,num_users),   dtype=tf.float64),  name='b')\n",
    "    \n",
    "    optimizer = keras.optimizers.Adam(learning_rate=1e-1)\n",
    "\n",
    "    Ynorm_without_nan = np.nan_to_num(Ynorm, nan=0)\n",
    "    \n",
    "    for iter in range(iterations):\n",
    "        \n",
    "        with tf.GradientTape() as tape:    \n",
    "            cost_value = cost(W, X, Ynorm_without_nan, b, R, lambda_)\n",
    "    \n",
    "        grads = tape.gradient( cost_value, [X,W,b] )\n",
    "        optimizer.apply_gradients( zip(grads, [X,W,b]) )\n",
    "    \n",
    "        if iter % 20 == 0:\n",
    "            print(f\"Training loss at iteration {iter}: {cost_value:0.1f}\")\n",
    " \n",
    "    return W, X, b"
   ]
  },
  {
   "cell_type": "code",
   "execution_count": 26,
   "id": "27718c1d-8a61-4be2-a699-a4b12c7cb8c9",
   "metadata": {},
   "outputs": [
    {
     "name": "stdout",
     "output_type": "stream",
     "text": [
      "Training loss at iteration 0: 635638.8\n",
      "Training loss at iteration 20: 41927.6\n",
      "Training loss at iteration 40: 27742.7\n",
      "Training loss at iteration 60: 22069.0\n",
      "Training loss at iteration 80: 19312.1\n",
      "Training loss at iteration 100: 17896.2\n",
      "Training loss at iteration 120: 17141.4\n",
      "Training loss at iteration 140: 16687.4\n",
      "Training loss at iteration 160: 16379.3\n",
      "Training loss at iteration 180: 16153.8\n"
     ]
    }
   ],
   "source": [
    "W1, X1, b1 = find_WXb(Ynorm,R, 10, 200, 1)"
   ]
  },
  {
   "cell_type": "code",
   "execution_count": 27,
   "id": "7892e014-e165-415b-bdc9-ea01f58ce6dd",
   "metadata": {},
   "outputs": [
    {
     "name": "stdout",
     "output_type": "stream",
     "text": [
      "Training loss at iteration 0: 5660823.1\n",
      "Training loss at iteration 20: 285181.5\n",
      "Training loss at iteration 40: 110018.3\n",
      "Training loss at iteration 60: 54110.6\n",
      "Training loss at iteration 80: 31053.4\n",
      "Training loss at iteration 100: 19894.7\n",
      "Training loss at iteration 120: 13879.4\n",
      "Training loss at iteration 140: 10407.9\n",
      "Training loss at iteration 160: 8311.6\n",
      "Training loss at iteration 180: 7001.0\n"
     ]
    }
   ],
   "source": [
    "W2, X2, b2 = find_WXb(Ynorm,R, 100, 200, 1)"
   ]
  },
  {
   "cell_type": "code",
   "execution_count": 28,
   "id": "dd53756e-17db-41b6-8da1-4fa5c75f6844",
   "metadata": {},
   "outputs": [
    {
     "data": {
      "text/plain": [
       "array([[4.81680129, 4.35638059, 1.4205668 , ..., 2.57051367, 3.64609966,\n",
       "        4.80133663],\n",
       "       [4.09485427, 4.09829929, 1.84583882, ..., 2.27256777, 3.36588013,\n",
       "        3.57835491],\n",
       "       [4.33146476, 3.87430952, 1.15723644, ..., 2.58058484, 3.41346215,\n",
       "        3.80389075],\n",
       "       ...,\n",
       "       [4.32775867, 3.78202706, 1.98029939, ..., 3.4176055 , 3.3355664 ,\n",
       "        3.62181085],\n",
       "       [4.32797447, 3.78212874, 1.9803777 , ..., 3.41750422, 3.33559912,\n",
       "        3.62191299],\n",
       "       [4.8586558 , 4.20620899, 2.37356582, ..., 3.93511268, 3.80847127,\n",
       "        4.22480559]])"
      ]
     },
     "execution_count": 28,
     "metadata": {},
     "output_type": "execute_result"
    }
   ],
   "source": [
    "p1 = np.matmul(X1.numpy(), np.transpose(W1.numpy())) + b1.numpy()\n",
    "\n",
    "pm1 = p1 + movie_avr_mean\n",
    "pm1"
   ]
  },
  {
   "cell_type": "code",
   "execution_count": 29,
   "id": "6ca5bee8-0eff-428a-95e5-bb4a4f59b4fa",
   "metadata": {},
   "outputs": [
    {
     "data": {
      "text/plain": [
       "array([[4.0658699 , 3.65639523, 3.94000628, ..., 2.40473547, 3.09225092,\n",
       "        5.09150447],\n",
       "       [4.15994658, 4.16480117, 2.06204179, ..., 2.00005927, 3.90128804,\n",
       "        2.992444  ],\n",
       "       [3.99320373, 2.95720383, 1.98456541, ..., 2.04820208, 2.99805979,\n",
       "        3.35433073],\n",
       "       ...,\n",
       "       [4.39439229, 3.56588274, 2.4487714 , ..., 3.39043286, 3.38973501,\n",
       "        3.65533532],\n",
       "       [4.39413164, 3.56598366, 2.44895957, ..., 3.39046451, 3.3898049 ,\n",
       "        3.65531221],\n",
       "       [4.88722974, 4.06103006, 2.95711439, ..., 3.90951303, 3.88220221,\n",
       "        4.14677946]])"
      ]
     },
     "execution_count": 29,
     "metadata": {},
     "output_type": "execute_result"
    }
   ],
   "source": [
    "p2 = np.matmul(X2.numpy(), np.transpose(W2.numpy())) + b2.numpy()\n",
    "\n",
    "pm2 = p2 + movie_avr_mean\n",
    "pm2"
   ]
  },
  {
   "cell_type": "code",
   "execution_count": 30,
   "id": "c00680d6-fc9b-4f39-9d41-c57798f09542",
   "metadata": {},
   "outputs": [
    {
     "data": {
      "text/plain": [
       "array([[4. , nan, nan, ..., 2.5, 3. , 5. ],\n",
       "       [nan, nan, nan, ..., 2. , nan, nan],\n",
       "       [4. , nan, nan, ..., 2. , nan, nan],\n",
       "       ...,\n",
       "       [nan, nan, nan, ..., nan, nan, nan],\n",
       "       [nan, nan, nan, ..., nan, nan, nan],\n",
       "       [nan, nan, nan, ..., nan, nan, nan]])"
      ]
     },
     "execution_count": 30,
     "metadata": {},
     "output_type": "execute_result"
    }
   ],
   "source": [
    "Y"
   ]
  },
  {
   "cell_type": "markdown",
   "id": "8fa02a12-76c6-4f42-af61-36b46feb7a30",
   "metadata": {},
   "source": [
    "5. Here Onwards, creating functions for finding similar movies by movie features and recommend movies for a new user from his curunt interest."
   ]
  },
  {
   "cell_type": "code",
   "execution_count": 31,
   "id": "8aac5c39-7a49-49f0-9c1a-9405d2827313",
   "metadata": {},
   "outputs": [],
   "source": [
    "def find_similar_movie_idx(X, movie_index):\n",
    "    movie = X[movie_index]\n",
    "    movies_num = X.shape[0]\n",
    "    simi_list = []\n",
    "    for i in range(movies_num):\n",
    "        similarity = np.linalg.norm(movie - X[i])**2\n",
    "        simi_list.append(similarity)\n",
    "    simi_list = np.array(simi_list)\n",
    "    simi_movie_indexes = np.argsort(simi_list)[1:11]\n",
    "\n",
    "    return simi_movie_indexes"
   ]
  },
  {
   "cell_type": "code",
   "execution_count": 32,
   "id": "ba83c984-628d-4789-b9e1-781041fc1e09",
   "metadata": {},
   "outputs": [],
   "source": [
    "import re\n",
    "\n",
    "def clean_titles(title):\n",
    "    \n",
    "    cleaned_title = re.sub(\"[^a-zA-Z0-9 ]\",\"\",title)\n",
    "    return cleaned_title"
   ]
  },
  {
   "cell_type": "code",
   "execution_count": 33,
   "id": "46d252aa-8559-48c3-b5fb-ce868ec66544",
   "metadata": {},
   "outputs": [
    {
     "data": {
      "text/html": [
       "<div>\n",
       "<style scoped>\n",
       "    .dataframe tbody tr th:only-of-type {\n",
       "        vertical-align: middle;\n",
       "    }\n",
       "\n",
       "    .dataframe tbody tr th {\n",
       "        vertical-align: top;\n",
       "    }\n",
       "\n",
       "    .dataframe thead th {\n",
       "        text-align: right;\n",
       "    }\n",
       "</style>\n",
       "<table border=\"1\" class=\"dataframe\">\n",
       "  <thead>\n",
       "    <tr style=\"text-align: right;\">\n",
       "      <th></th>\n",
       "      <th>movieId</th>\n",
       "      <th>title</th>\n",
       "      <th>genres</th>\n",
       "      <th>ratings</th>\n",
       "      <th>cleaned_title</th>\n",
       "    </tr>\n",
       "  </thead>\n",
       "  <tbody>\n",
       "    <tr>\n",
       "      <th>0</th>\n",
       "      <td>1</td>\n",
       "      <td>Toy Story (1995)</td>\n",
       "      <td>Adventure|Animation|Children|Comedy|Fantasy</td>\n",
       "      <td>3.920930</td>\n",
       "      <td>Toy Story 1995</td>\n",
       "    </tr>\n",
       "    <tr>\n",
       "      <th>1</th>\n",
       "      <td>2</td>\n",
       "      <td>Jumanji (1995)</td>\n",
       "      <td>Adventure|Children|Fantasy</td>\n",
       "      <td>3.431818</td>\n",
       "      <td>Jumanji 1995</td>\n",
       "    </tr>\n",
       "    <tr>\n",
       "      <th>2</th>\n",
       "      <td>3</td>\n",
       "      <td>Grumpier Old Men (1995)</td>\n",
       "      <td>Comedy|Romance</td>\n",
       "      <td>3.259615</td>\n",
       "      <td>Grumpier Old Men 1995</td>\n",
       "    </tr>\n",
       "    <tr>\n",
       "      <th>3</th>\n",
       "      <td>4</td>\n",
       "      <td>Waiting to Exhale (1995)</td>\n",
       "      <td>Comedy|Drama|Romance</td>\n",
       "      <td>2.357143</td>\n",
       "      <td>Waiting to Exhale 1995</td>\n",
       "    </tr>\n",
       "    <tr>\n",
       "      <th>4</th>\n",
       "      <td>5</td>\n",
       "      <td>Father of the Bride Part II (1995)</td>\n",
       "      <td>Comedy</td>\n",
       "      <td>3.071429</td>\n",
       "      <td>Father of the Bride Part II 1995</td>\n",
       "    </tr>\n",
       "  </tbody>\n",
       "</table>\n",
       "</div>"
      ],
      "text/plain": [
       "   movieId                               title  \\\n",
       "0        1                    Toy Story (1995)   \n",
       "1        2                      Jumanji (1995)   \n",
       "2        3             Grumpier Old Men (1995)   \n",
       "3        4            Waiting to Exhale (1995)   \n",
       "4        5  Father of the Bride Part II (1995)   \n",
       "\n",
       "                                        genres   ratings  \\\n",
       "0  Adventure|Animation|Children|Comedy|Fantasy  3.920930   \n",
       "1                   Adventure|Children|Fantasy  3.431818   \n",
       "2                               Comedy|Romance  3.259615   \n",
       "3                         Comedy|Drama|Romance  2.357143   \n",
       "4                                       Comedy  3.071429   \n",
       "\n",
       "                      cleaned_title  \n",
       "0                    Toy Story 1995  \n",
       "1                      Jumanji 1995  \n",
       "2             Grumpier Old Men 1995  \n",
       "3            Waiting to Exhale 1995  \n",
       "4  Father of the Bride Part II 1995  "
      ]
     },
     "execution_count": 33,
     "metadata": {},
     "output_type": "execute_result"
    }
   ],
   "source": [
    "movies_cleaned = movies\n",
    "cleaned_titles = movies_cleaned[\"title\"].apply(clean_titles)\n",
    "movies_cleaned.loc[:, \"cleaned_title\"] = cleaned_titles\n",
    "movies_cleaned.head()"
   ]
  },
  {
   "cell_type": "code",
   "execution_count": 34,
   "id": "1a17fda7-5a7d-4b06-825d-c0c4dc2c3cdb",
   "metadata": {},
   "outputs": [],
   "source": [
    "from sklearn.feature_extraction.text import TfidfVectorizer\n",
    "\n",
    "vectorizer = TfidfVectorizer(ngram_range=(1, 2))\n",
    "vectorized_titles = vectorizer.fit_transform(movies_cleaned[\"cleaned_title\"])\n"
   ]
  },
  {
   "cell_type": "code",
   "execution_count": 35,
   "id": "e14820c1-61b3-43bc-a4fe-cf643720c536",
   "metadata": {},
   "outputs": [],
   "source": [
    "from sklearn.metrics.pairwise import cosine_similarity\n",
    "\n",
    "def search_movie(title):\n",
    "    cleaned_title = clean_titles(title)\n",
    "    vectorized_title = vectorizer.transform([cleaned_title])\n",
    "    similarity = cosine_similarity(vectorized_title, vectorized_titles).flatten()\n",
    "    indices = np.argsort(similarity)[::-1][:5]\n",
    "    return movies_cleaned.iloc[indices]"
   ]
  },
  {
   "cell_type": "code",
   "execution_count": 36,
   "id": "db1b85a6-e9e9-4913-a427-bc48df0239ff",
   "metadata": {},
   "outputs": [],
   "source": [
    "def similar_movies(title):\n",
    "    movie_id = search_movie(title)[\"movieId\"].iloc[0]\n",
    "    movie_unique_list, movie_indices = np.unique(movies[\"movieId\"], return_inverse=True)\n",
    "    \n",
    "    movie_idx = np.where(movie_unique_list == movie_id)[0][0]\n",
    "    similar_movies_idx = find_similar_movie_idx(X2, movie_idx)\n",
    "\n",
    "    \n",
    "    return movies.iloc[similar_movies_idx]"
   ]
  },
  {
   "cell_type": "markdown",
   "id": "d8f21b82-ea04-46f9-abd8-7bc1c6994840",
   "metadata": {},
   "source": [
    "6. Function to find new users W,b weights using learned movie features"
   ]
  },
  {
   "cell_type": "code",
   "execution_count": 37,
   "id": "b9cf6170-6f2b-42da-9566-f16a78acf718",
   "metadata": {},
   "outputs": [],
   "source": [
    "def find_Wb(Ynorm,R, num_features, iterations, lambda_,X):\n",
    "    num_movies, num_users = Ynorm.shape\n",
    "    \n",
    "    tf.random.set_seed(1234) # for consistent results\n",
    "    W = tf.Variable(tf.random.normal((num_users,  num_features),dtype=tf.float64),  name='W')\n",
    "    b = tf.Variable(tf.random.normal((1,num_users),   dtype=tf.float64),  name='b')\n",
    "    \n",
    "\n",
    "    optimizer = keras.optimizers.Adam(learning_rate=1e-1)\n",
    "\n",
    "    Ynorm_without_nan = np.nan_to_num(Ynorm, nan=0)\n",
    "    \n",
    "    for iter in range(iterations):\n",
    "        with tf.GradientTape() as tape:\n",
    "            cost_value = cost(W, X, Ynorm_without_nan, b, R, lambda_)\n",
    "\n",
    "        grads = tape.gradient( cost_value, [W,b] )    \n",
    "        optimizer.apply_gradients( zip(grads, [W,b]) )\n",
    "    \n",
    "        if iter % 20 == 0:\n",
    "            print(f\"Training loss at iteration {iter}: {cost_value:0.1f}\")\n",
    " \n",
    "    return W, b"
   ]
  },
  {
   "cell_type": "markdown",
   "id": "b682e986-fa72-4153-8e9e-8031b80f6da2",
   "metadata": {},
   "source": [
    "7. Creating a class for handle user functions"
   ]
  },
  {
   "cell_type": "code",
   "execution_count": 38,
   "id": "1a99c8cf-e56b-497a-b24c-7c0eed8470b7",
   "metadata": {},
   "outputs": [],
   "source": [
    "class User:\n",
    "    \n",
    "    def __init__(self):\n",
    "        self.movies = movies\n",
    "        self.movie_avr_mean = movie_avr_mean\n",
    "        self.X2 = X2\n",
    "        \n",
    "        self.user_arr = np.full((1, movies.shape[0]), np.nan)\n",
    "        self.user_present = np.full((1, movies.shape[0]), 1)\n",
    "        \n",
    "        self.movie_unique_list, self.movie_indices = np.unique(movies[\"movieId\"], return_inverse=True)\n",
    "        self.preds = None\n",
    "        self.R = None\n",
    "    \n",
    "    def give_ratings(self, movie_id, ratings):\n",
    "        movie_idx = np.where(self.movie_unique_list == movie_id)[0][0]\n",
    "        if 0 <= ratings <= 5:\n",
    "            self.user_arr[0][movie_idx] = ratings\n",
    "        else:\n",
    "            print(\"Rating is beyond limits\")\n",
    "    \n",
    "    def get_predictions(self):\n",
    "        nan_ind = np.argwhere(np.isnan(self.user_arr))\n",
    "        self.user_present[0,nan_ind[:, 1]] = 0\n",
    "        \n",
    "        Y = self.user_arr.reshape(-1, 1)\n",
    "        R = self.user_present.reshape(-1, 1)\n",
    "        self.R = R\n",
    "        Ynorm = Y - self.movie_avr_mean\n",
    "        \n",
    "        W_user, b_user = find_Wb(Ynorm, R, 100, 200, 1, self.X2)\n",
    "        prediction = np.matmul(self.X2.numpy(), np.transpose(W_user.numpy())) + b_user.numpy()\n",
    "        self.preds = prediction + self.movie_avr_mean\n",
    "        return self.preds\n",
    "    \n",
    "    def get_recommends(self):\n",
    "        if self.preds is not None:\n",
    "            #reco = self.preds * np.logical_not(self.R)\n",
    "            reco_indices = np.argsort(self.preds.flatten())[-10:][::-1]\n",
    "            dataframe = self.movies[[\"title\", \"genres\"]].copy()\n",
    "            return dataframe.iloc[reco_indices]\n",
    "        else:\n",
    "            print(\"Calculate predictions first\")"
   ]
  },
  {
   "cell_type": "code",
   "execution_count": 39,
   "id": "de108257-14b1-4cdb-ace2-7f8adb391941",
   "metadata": {},
   "outputs": [],
   "source": [
    "user1 = User()\n",
    "user1.give_ratings(1,4.5)\n",
    "user1.give_ratings(2,4.0)\n",
    "user1.give_ratings(3,3)\n",
    "user1.give_ratings(4,2)\n",
    "\n"
   ]
  },
  {
   "cell_type": "code",
   "execution_count": 40,
   "id": "c41bf62a-2473-4f70-9254-c28d8585fcfb",
   "metadata": {},
   "outputs": [
    {
     "name": "stdout",
     "output_type": "stream",
     "text": [
      "Training loss at iteration 0: 3557.8\n",
      "Training loss at iteration 20: 3503.1\n",
      "Training loss at iteration 40: 3500.4\n",
      "Training loss at iteration 60: 3500.1\n",
      "Training loss at iteration 80: 3500.1\n",
      "Training loss at iteration 100: 3500.1\n",
      "Training loss at iteration 120: 3500.1\n",
      "Training loss at iteration 140: 3500.1\n",
      "Training loss at iteration 160: 3500.1\n",
      "Training loss at iteration 180: 3500.1\n"
     ]
    },
    {
     "data": {
      "text/plain": [
       "array([[4.42434261],\n",
       "       [3.89797975],\n",
       "       [3.01940319],\n",
       "       ...,\n",
       "       [3.33560505],\n",
       "       [3.33559781],\n",
       "       [3.83660852]])"
      ]
     },
     "execution_count": 40,
     "metadata": {},
     "output_type": "execute_result"
    }
   ],
   "source": [
    "user1.get_predictions()"
   ]
  },
  {
   "cell_type": "code",
   "execution_count": 41,
   "id": "6fb692f9-313a-48ec-a1db-5163fdffd5da",
   "metadata": {},
   "outputs": [
    {
     "data": {
      "text/html": [
       "<div>\n",
       "<style scoped>\n",
       "    .dataframe tbody tr th:only-of-type {\n",
       "        vertical-align: middle;\n",
       "    }\n",
       "\n",
       "    .dataframe tbody tr th {\n",
       "        vertical-align: top;\n",
       "    }\n",
       "\n",
       "    .dataframe thead th {\n",
       "        text-align: right;\n",
       "    }\n",
       "</style>\n",
       "<table border=\"1\" class=\"dataframe\">\n",
       "  <thead>\n",
       "    <tr style=\"text-align: right;\">\n",
       "      <th></th>\n",
       "      <th>title</th>\n",
       "      <th>genres</th>\n",
       "    </tr>\n",
       "  </thead>\n",
       "  <tbody>\n",
       "    <tr>\n",
       "      <th>816</th>\n",
       "      <td>Innocents, The (1961)</td>\n",
       "      <td>Drama|Horror|Thriller</td>\n",
       "    </tr>\n",
       "    <tr>\n",
       "      <th>5452</th>\n",
       "      <td>Mutiny on the Bounty (1962)</td>\n",
       "      <td>Adventure|Drama|Romance</td>\n",
       "    </tr>\n",
       "    <tr>\n",
       "      <th>2211</th>\n",
       "      <td>Niagara (1953)</td>\n",
       "      <td>Drama|Thriller</td>\n",
       "    </tr>\n",
       "    <tr>\n",
       "      <th>2499</th>\n",
       "      <td>For All Mankind (1989)</td>\n",
       "      <td>Documentary</td>\n",
       "    </tr>\n",
       "    <tr>\n",
       "      <th>2587</th>\n",
       "      <td>Color of Paradise, The (Rang-e khoda) (1999)</td>\n",
       "      <td>Drama</td>\n",
       "    </tr>\n",
       "    <tr>\n",
       "      <th>5020</th>\n",
       "      <td>Parallax View, The (1974)</td>\n",
       "      <td>Thriller</td>\n",
       "    </tr>\n",
       "    <tr>\n",
       "      <th>7565</th>\n",
       "      <td>Chalet Girl (2011)</td>\n",
       "      <td>Comedy|Romance</td>\n",
       "    </tr>\n",
       "    <tr>\n",
       "      <th>5293</th>\n",
       "      <td>This Gun for Hire (1942)</td>\n",
       "      <td>Crime|Film-Noir|Thriller</td>\n",
       "    </tr>\n",
       "    <tr>\n",
       "      <th>4037</th>\n",
       "      <td>Chosen, The (1981)</td>\n",
       "      <td>Drama</td>\n",
       "    </tr>\n",
       "    <tr>\n",
       "      <th>4598</th>\n",
       "      <td>Scrooge (1970)</td>\n",
       "      <td>Drama|Fantasy|Musical</td>\n",
       "    </tr>\n",
       "  </tbody>\n",
       "</table>\n",
       "</div>"
      ],
      "text/plain": [
       "                                             title                    genres\n",
       "816                          Innocents, The (1961)     Drama|Horror|Thriller\n",
       "5452                   Mutiny on the Bounty (1962)   Adventure|Drama|Romance\n",
       "2211                                Niagara (1953)            Drama|Thriller\n",
       "2499                        For All Mankind (1989)               Documentary\n",
       "2587  Color of Paradise, The (Rang-e khoda) (1999)                     Drama\n",
       "5020                     Parallax View, The (1974)                  Thriller\n",
       "7565                            Chalet Girl (2011)            Comedy|Romance\n",
       "5293                      This Gun for Hire (1942)  Crime|Film-Noir|Thriller\n",
       "4037                            Chosen, The (1981)                     Drama\n",
       "4598                                Scrooge (1970)     Drama|Fantasy|Musical"
      ]
     },
     "execution_count": 41,
     "metadata": {},
     "output_type": "execute_result"
    }
   ],
   "source": [
    "user1.get_recommends()"
   ]
  },
  {
   "cell_type": "markdown",
   "id": "1e149a0e-8b3a-4cc7-9d52-a37368b44ba2",
   "metadata": {},
   "source": [
    "8. User Interface for find similar movies"
   ]
  },
  {
   "cell_type": "code",
   "execution_count": 42,
   "id": "e2f9a565-975c-4038-9193-f93dd7e7f31c",
   "metadata": {},
   "outputs": [
    {
     "data": {
      "application/vnd.jupyter.widget-view+json": {
       "model_id": "469a91375a1746938a514db49b7f6d41",
       "version_major": 2,
       "version_minor": 0
      },
      "text/plain": [
       "Text(value='', description='Title')"
      ]
     },
     "metadata": {},
     "output_type": "display_data"
    },
    {
     "data": {
      "application/vnd.jupyter.widget-view+json": {
       "model_id": "f6d02ce021854bf28b17f2253429f327",
       "version_major": 2,
       "version_minor": 0
      },
      "text/plain": [
       "Button(description='Search', style=ButtonStyle())"
      ]
     },
     "metadata": {},
     "output_type": "display_data"
    },
    {
     "data": {
      "application/vnd.jupyter.widget-view+json": {
       "model_id": "35872b868ed64d5fb0e3d9148501bbdd",
       "version_major": 2,
       "version_minor": 0
      },
      "text/plain": [
       "Output()"
      ]
     },
     "metadata": {},
     "output_type": "display_data"
    }
   ],
   "source": [
    "import ipywidgets as widgets\n",
    "from IPython.display import display\n",
    "\n",
    "\n",
    "input_title = widgets.Text(value=\"\",\n",
    "                           description=\"Title\",\n",
    "                           disabled=False)\n",
    "sim_movies = widgets.Output()\n",
    "\n",
    "\n",
    "def on_button_click(b):\n",
    "    with sim_movies:\n",
    "        sim_movies.clear_output()\n",
    "        display(similar_movies(input_title.value))\n",
    "\n",
    "search_button = widgets.Button(description=\"Search\")\n",
    "\n",
    "search_button.on_click(on_button_click)\n",
    "\n",
    "display(input_title, search_button, sim_movies)\n"
   ]
  },
  {
   "cell_type": "markdown",
   "id": "1334f7de-d0b7-4143-9692-1244c73091fd",
   "metadata": {},
   "source": [
    "9. User interface to recommend movies learning from his current interests"
   ]
  },
  {
   "cell_type": "code",
   "execution_count": 43,
   "id": "c2c7fb98-7db9-4e82-b0a0-6cdd436a6f42",
   "metadata": {},
   "outputs": [
    {
     "data": {
      "application/vnd.jupyter.widget-view+json": {
       "model_id": "446a09befa3741c19ee2c5207a7ac4c9",
       "version_major": 2,
       "version_minor": 0
      },
      "text/plain": [
       "Text(value='', description='Title')"
      ]
     },
     "metadata": {},
     "output_type": "display_data"
    },
    {
     "data": {
      "application/vnd.jupyter.widget-view+json": {
       "model_id": "2b98f16a2056430c90dccf5f653ae3d8",
       "version_major": 2,
       "version_minor": 0
      },
      "text/plain": [
       "Button(description='Search', style=ButtonStyle())"
      ]
     },
     "metadata": {},
     "output_type": "display_data"
    },
    {
     "data": {
      "application/vnd.jupyter.widget-view+json": {
       "model_id": "96aafa88aae244e683ca1e86f0e4ce48",
       "version_major": 2,
       "version_minor": 0
      },
      "text/plain": [
       "Output()"
      ]
     },
     "metadata": {},
     "output_type": "display_data"
    },
    {
     "data": {
      "application/vnd.jupyter.widget-view+json": {
       "model_id": "b239dc18a4164302b142ff818f7667e6",
       "version_major": 2,
       "version_minor": 0
      },
      "text/plain": [
       "Text(value='', description='Rating')"
      ]
     },
     "metadata": {},
     "output_type": "display_data"
    },
    {
     "data": {
      "application/vnd.jupyter.widget-view+json": {
       "model_id": "520846e423784078a43dbba3d968bee7",
       "version_major": 2,
       "version_minor": 0
      },
      "text/plain": [
       "Button(description='OK', style=ButtonStyle())"
      ]
     },
     "metadata": {},
     "output_type": "display_data"
    },
    {
     "data": {
      "application/vnd.jupyter.widget-view+json": {
       "model_id": "d117ebd8354b4bb19b376e4dcb9ff3c6",
       "version_major": 2,
       "version_minor": 0
      },
      "text/plain": [
       "Output()"
      ]
     },
     "metadata": {},
     "output_type": "display_data"
    },
    {
     "data": {
      "application/vnd.jupyter.widget-view+json": {
       "model_id": "ab6d561c6d8e433ab47510b6d609ab17",
       "version_major": 2,
       "version_minor": 0
      },
      "text/plain": [
       "Button(description='Get Recommend', style=ButtonStyle())"
      ]
     },
     "metadata": {},
     "output_type": "display_data"
    },
    {
     "data": {
      "application/vnd.jupyter.widget-view+json": {
       "model_id": "67d671316056443f9482ba35f81760f3",
       "version_major": 2,
       "version_minor": 0
      },
      "text/plain": [
       "Output()"
      ]
     },
     "metadata": {},
     "output_type": "display_data"
    }
   ],
   "source": [
    "user1 = User()\n",
    "\n",
    "input_title2 = widgets.Text(value=\"\",\n",
    "                           description=\"Title\",\n",
    "                           disabled=False)\n",
    "input_rating = widgets.Text(value=\"\",\n",
    "                           description=\"Rating\",\n",
    "                           disabled=False)\n",
    "movies_ = widgets.Output()\n",
    "rec_movies = widgets.Output()\n",
    "confirm = widgets.Output()\n",
    "\n",
    "def on_search_button_click(b):\n",
    "    with movies_:\n",
    "        global movie\n",
    "        movies_.clear_output()\n",
    "        movie = search_movie(input_title2.value).iloc[0]\n",
    "        display(movie)\n",
    "\n",
    "def on_ok_button_click(b):\n",
    "    with confirm:\n",
    "        confirm.clear_output()\n",
    "        user1.give_ratings(movie[\"movieId\"], float(input_rating.value))\n",
    "        display(\"recorded :\" ,input_rating.value)\n",
    "    \n",
    "def on_recommended_movie_button_click(b):\n",
    "    with rec_movies:\n",
    "        rec_movies.clear_output()\n",
    "        user1.get_predictions()\n",
    "        display(user1.get_recommends())\n",
    "        \n",
    "search_button = widgets.Button(description=\"Search\")\n",
    "ok_button = widgets.Button(description=\"OK\")\n",
    "recommended_movie_button = widgets.Button(description=\"Get Recommend\")\n",
    "\n",
    "search_button.on_click(on_search_button_click)\n",
    "ok_button.on_click(on_ok_button_click)\n",
    "recommended_movie_button.on_click(on_recommended_movie_button_click)\n",
    "\n",
    "\n",
    "display(input_title2, search_button, movies_)\n",
    "display( input_rating, ok_button, confirm)\n",
    "display(recommended_movie_button,rec_movies)"
   ]
  }
 ],
 "metadata": {
  "kernelspec": {
   "display_name": "Python 3 (ipykernel)",
   "language": "python",
   "name": "python3"
  },
  "language_info": {
   "codemirror_mode": {
    "name": "ipython",
    "version": 3
   },
   "file_extension": ".py",
   "mimetype": "text/x-python",
   "name": "python",
   "nbconvert_exporter": "python",
   "pygments_lexer": "ipython3",
   "version": "3.11.7"
  }
 },
 "nbformat": 4,
 "nbformat_minor": 5
}
